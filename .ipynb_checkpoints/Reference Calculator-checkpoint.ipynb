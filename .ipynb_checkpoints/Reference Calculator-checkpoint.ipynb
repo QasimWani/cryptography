{
 "cells": [
  {
   "cell_type": "markdown",
   "metadata": {},
   "source": [
    "### <center> Cryptography</center>\n",
    "> This part is converting an image to a grayscale, then getting all the bit values and\n",
    "> then running a similarity function to see how similar two grayscaled images are to one another."
   ]
  },
  {
   "cell_type": "code",
   "execution_count": 1,
   "metadata": {},
   "outputs": [],
   "source": [
    "from PIL import Image\n",
    "import numpy as np"
   ]
  },
  {
   "cell_type": "code",
   "execution_count": 7,
   "metadata": {},
   "outputs": [],
   "source": [
    "img = Image.open(\"Images/car1.PNG\", 'r')\n",
    "img_gray = img.convert('L')\n",
    "img_2 = Image.open(\"Images/car2.PNG\", 'r')\n",
    "img_2 = img_2.convert('L')"
   ]
  },
  {
   "cell_type": "code",
   "execution_count": 8,
   "metadata": {},
   "outputs": [],
   "source": [
    "pix_val = np.array(img.getdata())\n",
    "pix_val_gray = np.array(img_gray.getdata())\n",
    "pix_2_val = np.array(img_2.getdata())"
   ]
  },
  {
   "cell_type": "code",
   "execution_count": 12,
   "metadata": {},
   "outputs": [
    {
     "name": "stdout",
     "output_type": "stream",
     "text": [
      "(2533005, 4) (5181280,)\n",
      "(2533005,) (5181280,)\n"
     ]
    }
   ],
   "source": [
    "print(pix_val.shape, np.array(img_2.getdata()).shape)\n",
    "print(pix_val_gray.shape, pix_2_val.shape)"
   ]
  },
  {
   "cell_type": "markdown",
   "metadata": {},
   "source": [
    "### Problem Noticed : Number of pixels differ per image. Need a Gaussian distribution system of K pixels."
   ]
  },
  {
   "cell_type": "code",
   "execution_count": 7,
   "metadata": {},
   "outputs": [
    {
     "data": {
      "text/plain": [
       "(array([134, 142, 157, 255]), 141)"
      ]
     },
     "execution_count": 7,
     "metadata": {},
     "output_type": "execute_result"
    }
   ],
   "source": [
    "pix_val[0], pix_val_gray[0]"
   ]
  },
  {
   "cell_type": "code",
   "execution_count": 8,
   "metadata": {},
   "outputs": [
    {
     "data": {
      "text/plain": [
       "(2533005, 2533005)"
      ]
     },
     "execution_count": 8,
     "metadata": {},
     "output_type": "execute_result"
    }
   ],
   "source": [
    "len(pix_val), len(pix_val_gray)"
   ]
  },
  {
   "cell_type": "code",
   "execution_count": 27,
   "metadata": {},
   "outputs": [],
   "source": [
    "def similarity_gen(A, B):\n",
    "    \"\"\"\n",
    "    This method compares the average percent error between each pixel from the grayscale original image to the\n",
    "    image to be compared against.\n",
    "    Parameters:\n",
    "    1. A: The original image (np.array, shape: n x 1).\n",
    "    2. B: The image to be compared (np.array, shape: n x 1).\n",
    "    Returns the average percent error of the difference in the test images' pixel value.\n",
    "    \"\"\"\n",
    "    percent_error = 0\n",
    "    A_half = A[0:round(len(A)/3)]\n",
    "    B_half = B[0:round(len(B)/3)]\n",
    "    \n",
    "    A_second = A[round(len(A)/3):round(4*len(A)/3)]\n",
    "    B_second = B[round(len(B)/3):round(4*len(A)/3)]\n",
    "    \n",
    "    for a,b in zip(A_half,B_half):\n",
    "        percent_error += abs(a - b)/a\n",
    "    total_error = percent_error/len(A_half)\n",
    "    print(total_error)\n",
    "    for a,b in zip(A_second,B_second):\n",
    "        percent_error += abs(a - b)/a\n",
    "    total_error += percent_error/len(A_second)\n",
    "    \n",
    "    return total_error"
   ]
  },
  {
   "cell_type": "code",
   "execution_count": 28,
   "metadata": {},
   "outputs": [
    {
     "name": "stdout",
     "output_type": "stream",
     "text": [
      "0.0\n"
     ]
    },
    {
     "name": "stderr",
     "output_type": "stream",
     "text": [
      "C:\\Users\\qasim\\Anaconda3\\lib\\site-packages\\ipykernel_launcher.py:22: RuntimeWarning: invalid value encountered in long_scalars\n"
     ]
    },
    {
     "data": {
      "text/plain": [
       "nan"
      ]
     },
     "execution_count": 28,
     "metadata": {},
     "output_type": "execute_result"
    }
   ],
   "source": [
    "similarity_gen(pix_val_gray, pix_val_gray)"
   ]
  },
  {
   "cell_type": "code",
   "execution_count": null,
   "metadata": {},
   "outputs": [],
   "source": []
  },
  {
   "cell_type": "code",
   "execution_count": 14,
   "metadata": {},
   "outputs": [
    {
     "data": {
      "text/plain": [
       "1266502"
      ]
     },
     "execution_count": 14,
     "metadata": {},
     "output_type": "execute_result"
    }
   ],
   "source": [
    "round(len(pix_val_gray)/2)"
   ]
  },
  {
   "cell_type": "code",
   "execution_count": 4,
   "metadata": {},
   "outputs": [
    {
     "ename": "NameError",
     "evalue": "name 'cmd' is not defined",
     "output_type": "error",
     "traceback": [
      "\u001b[1;31m---------------------------------------------------------------------------\u001b[0m",
      "\u001b[1;31mNameError\u001b[0m                                 Traceback (most recent call last)",
      "\u001b[1;32m<ipython-input-4-e32e872313d9>\u001b[0m in \u001b[0;36m<module>\u001b[1;34m\u001b[0m\n\u001b[1;32m----> 1\u001b[1;33m \u001b[0mcmd\u001b[0m\u001b[1;33m\u001b[0m\u001b[1;33m\u001b[0m\u001b[0m\n\u001b[0m",
      "\u001b[1;31mNameError\u001b[0m: name 'cmd' is not defined"
     ]
    }
   ],
   "source": []
  },
  {
   "cell_type": "code",
   "execution_count": null,
   "metadata": {},
   "outputs": [],
   "source": []
  }
 ],
 "metadata": {
  "kernelspec": {
   "display_name": "Python 3",
   "language": "python",
   "name": "python3"
  },
  "language_info": {
   "codemirror_mode": {
    "name": "ipython",
    "version": 3
   },
   "file_extension": ".py",
   "mimetype": "text/x-python",
   "name": "python",
   "nbconvert_exporter": "python",
   "pygments_lexer": "ipython3",
   "version": "3.7.3"
  }
 },
 "nbformat": 4,
 "nbformat_minor": 2
}
