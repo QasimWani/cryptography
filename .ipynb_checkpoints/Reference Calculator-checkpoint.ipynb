{
 "cells": [
  {
   "cell_type": "code",
   "execution_count": 1,
   "metadata": {},
   "outputs": [],
   "source": [
    "##Cryptography\n",
    "###--> This part is converting an image to a grayscale, then getting all the bit values and\n",
    "###--> then running a similarity function to see how similar two grayscaled images are to one another."
   ]
  },
  {
   "cell_type": "code",
   "execution_count": 7,
   "metadata": {},
   "outputs": [],
   "source": [
    "from PIL import Image\n",
    "import numpy as np"
   ]
  },
  {
   "cell_type": "code",
   "execution_count": 14,
   "metadata": {},
   "outputs": [],
   "source": [
    "img = Image.open(\"Images/car1.PNG\", 'r')\n",
    "img_gray = img.convert('L')"
   ]
  },
  {
   "cell_type": "code",
   "execution_count": 16,
   "metadata": {},
   "outputs": [],
   "source": [
    "pix_val = np.array(img.getdata())\n",
    "pix_val_gray = np.array(img_gray.getdata())"
   ]
  },
  {
   "cell_type": "code",
   "execution_count": 19,
   "metadata": {},
   "outputs": [
    {
     "name": "stdout",
     "output_type": "stream",
     "text": [
      "(2533005, 4)\n",
      "(2533005,)\n"
     ]
    }
   ],
   "source": [
    "print(pix_val.shape)\n",
    "print(pix_val_gray.shape)"
   ]
  },
  {
   "cell_type": "code",
   "execution_count": 20,
   "metadata": {},
   "outputs": [
    {
     "data": {
      "text/plain": [
       "(array([134, 142, 157, 255]), 141)"
      ]
     },
     "execution_count": 20,
     "metadata": {},
     "output_type": "execute_result"
    }
   ],
   "source": [
    "pix_val[0], pix_val_gray[0]"
   ]
  },
  {
   "cell_type": "code",
   "execution_count": 22,
   "metadata": {},
   "outputs": [
    {
     "data": {
      "text/plain": [
       "(2533005, 2533005)"
      ]
     },
     "execution_count": 22,
     "metadata": {},
     "output_type": "execute_result"
    }
   ],
   "source": [
    "len(pix_val), len(pix_val_gray)"
   ]
  },
  {
   "cell_type": "code",
   "execution_count": 43,
   "metadata": {},
   "outputs": [],
   "source": [
    "def similarity_gen(A, B):\n",
    "    \"\"\"\n",
    "    This method compares the average percent error between each pixel from the grayscale original image to the\n",
    "    image to be compared against.\n",
    "    Parameters:\n",
    "    1. A: The original image (np.array, shape: n x 1).\n",
    "    2. B: The image to be compared (np.array, shape: n x 1).\n",
    "    Returns the average percent error of the difference in the test images' pixel value.\n",
    "    \"\"\"\n",
    "    percent_error = 0\n",
    "    A_half = A[0:len(A)]\n",
    "    B_half = B[0:len(B)]\n",
    "    \n",
    "    A_second = A[len(A):-1]\n",
    "    B_second = B[len(A):-1]\n",
    "    \n",
    "    for a,b in zip(A_half,B_half):\n",
    "        percent_error += abs(a - b)/a\n",
    "    total_error = percent_error/len(A_half)\n",
    "    \n",
    "    for a,b in zip(A_second,B_second):\n",
    "        percent_error += abs(a - b)/a\n",
    "    total_error += percent_error/len(A_second)\n",
    "    \n",
    "    return total_error"
   ]
  },
  {
   "cell_type": "code",
   "execution_count": 44,
   "metadata": {},
   "outputs": [
    {
     "name": "stderr",
     "output_type": "stream",
     "text": [
      "C:\\Users\\qasim\\Anaconda3\\lib\\site-packages\\ipykernel_launcher.py:18: RuntimeWarning: invalid value encountered in long_scalars\n"
     ]
    },
    {
     "data": {
      "text/plain": [
       "nan"
      ]
     },
     "execution_count": 44,
     "metadata": {},
     "output_type": "execute_result"
    }
   ],
   "source": [
    "similarity_gen(pix_val_gray, pix_val_gray)"
   ]
  },
  {
   "cell_type": "code",
   "execution_count": null,
   "metadata": {},
   "outputs": [],
   "source": [
    "(pix_val_gray[:len(pix_val_gray)] - pix_val_gray[:len(pix_val_gray)])/pix_val_gray[:len(pix_val_gray)]"
   ]
  },
  {
   "cell_type": "code",
   "execution_count": null,
   "metadata": {},
   "outputs": [],
   "source": []
  }
 ],
 "metadata": {
  "kernelspec": {
   "display_name": "Python 3",
   "language": "python",
   "name": "python3"
  },
  "language_info": {
   "codemirror_mode": {
    "name": "ipython",
    "version": 3
   },
   "file_extension": ".py",
   "mimetype": "text/x-python",
   "name": "python",
   "nbconvert_exporter": "python",
   "pygments_lexer": "ipython3",
   "version": "3.7.3"
  }
 },
 "nbformat": 4,
 "nbformat_minor": 2
}
